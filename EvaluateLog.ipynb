{
 "cells": [
  {
   "cell_type": "code",
   "execution_count": null,
   "metadata": {},
   "outputs": [],
   "source": [
    "ls"
   ]
  },
  {
   "cell_type": "code",
   "execution_count": null,
   "metadata": {},
   "outputs": [],
   "source": [
    "import pandas as pd\n",
    "import numpy as np\n",
    "import re\n",
    "import os\n",
    "from datetime import datetime, timedelta"
   ]
  },
  {
   "cell_type": "code",
   "execution_count": null,
   "metadata": {},
   "outputs": [],
   "source": [
    "pat_file = re.compile('(RE[0-9]+)_([0-9]+ [0-9]+).txt')\n",
    "for f in os.listdir('.'):\n",
    "    #print(f)\n",
    "    m=re.match(pat_file,f)\n",
    "    if m is not None:\n",
    "        file = f\n",
    "        break\n",
    "sn = m.group(1)\n",
    "date_time_obj = datetime.strptime(m.group(2), '%Y%m%d %H%M%S')\n",
    "date_time_obj"
   ]
  },
  {
   "cell_type": "code",
   "execution_count": null,
   "metadata": {},
   "outputs": [],
   "source": [
    "df = pd.read_csv(f, sep='\\t')\n",
    "df.head(10)"
   ]
  },
  {
   "cell_type": "code",
   "execution_count": null,
   "metadata": {},
   "outputs": [],
   "source": [
    "df"
   ]
  },
  {
   "cell_type": "code",
   "execution_count": null,
   "metadata": {},
   "outputs": [],
   "source": [
    "step_h = 1\n",
    "num = int(df.loc['Data No:'].values[0])\n",
    "num"
   ]
  },
  {
   "cell_type": "code",
   "execution_count": null,
   "metadata": {},
   "outputs": [],
   "source": [
    "re_step = '([0-9]+)\\\\)'\n",
    "#df_step = df.index.str.extract(re_step).dropna()\n",
    "index_step = df.index.str.contains(re_step, regex=True)\n",
    "index_step "
   ]
  },
  {
   "cell_type": "code",
   "execution_count": null,
   "metadata": {},
   "outputs": [],
   "source": [
    "df['date_time'] = np.nan\n",
    "df_ = df.loc[index_step,:]\n",
    "df_ = df_.astype({'FTLab Radon Data':'int'})\n",
    "for i, (index, row) in enumerate(df_.iterrows()):\n",
    "    date_time = date_time_obj-timedelta(hours=num-i)\n",
    "    df_.loc[index,'date_time'] = date_time"
   ]
  },
  {
   "cell_type": "code",
   "execution_count": null,
   "metadata": {},
   "outputs": [],
   "source": [
    "df_"
   ]
  },
  {
   "cell_type": "code",
   "execution_count": null,
   "metadata": {
    "scrolled": true
   },
   "outputs": [],
   "source": [
    "ax = df_.plot.line(y='FTLab Radon Data',x='date_time')\n",
    "ax.set_xlabel(\"date time\")\n",
    "ax.set_ylabel(\"Bq/m^3\")\n",
    "fig = ax.get_figure()\n",
    "fig.savefig('lineplot.pdf')"
   ]
  },
  {
   "cell_type": "code",
   "execution_count": null,
   "metadata": {},
   "outputs": [],
   "source": [
    "df_.set_index(df_.date_time, inplace=True)\n",
    "df_['x']= df_.index.hour\n",
    "\n",
    "ax = df_.boxplot(by='x')\n",
    "ax.set_xlabel(\"date time\")\n",
    "ax.set_ylabel(\"Bq/m^3\")\n",
    "fig = ax.get_figure()\n",
    "fig.savefig('boxplot.pdf')"
   ]
  }
 ],
 "metadata": {
  "kernelspec": {
   "display_name": "Python 3",
   "language": "python",
   "name": "python3"
  },
  "language_info": {
   "codemirror_mode": {
    "name": "ipython",
    "version": 3
   },
   "file_extension": ".py",
   "mimetype": "text/x-python",
   "name": "python",
   "nbconvert_exporter": "python",
   "pygments_lexer": "ipython3",
   "version": "3.9.1+"
  }
 },
 "nbformat": 4,
 "nbformat_minor": 2
}
