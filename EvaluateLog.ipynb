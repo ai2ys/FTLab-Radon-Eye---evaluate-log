{
 "cells": [
  {
   "cell_type": "code",
   "execution_count": null,
   "metadata": {},
   "outputs": [],
   "source": [
    "ls"
   ]
  },
  {
   "cell_type": "code",
   "execution_count": null,
   "metadata": {},
   "outputs": [],
   "source": [
    "import pandas as pd\n",
    "import numpy as np\n",
    "import re\n",
    "import os\n",
    "from datetime import datetime, timedelta"
   ]
  },
  {
   "cell_type": "code",
   "execution_count": null,
   "metadata": {},
   "outputs": [],
   "source": [
    "pat_file = re.compile('(RE[0-9]+)_([0-9]+ [0-9]+).txt')\n",
    "for f in os.listdir('.'):\n",
    "    #print(f)\n",
    "    m=re.match(pat_file,f)\n",
    "    if m is not None:\n",
    "        file = f\n",
    "        break\n",
    "sn = m.group(1)\n",
    "date_time_obj = datetime.strptime(m.group(2), '%Y%m%d %H%M%S')\n",
    "date_time_obj"
   ]
  },
  {
   "cell_type": "code",
   "execution_count": null,
   "metadata": {},
   "outputs": [],
   "source": [
    "df = pd.read_csv(f, sep='\\t')\n",
    "df.head(10)"
   ]
  },
  {
   "cell_type": "code",
   "execution_count": null,
   "metadata": {},
   "outputs": [],
   "source": [
    "df"
   ]
  },
  {
   "cell_type": "code",
   "execution_count": null,
   "metadata": {},
}
}
